{
 "cells": [
  {
   "cell_type": "code",
   "execution_count": 30,
   "metadata": {
    "_cell_guid": "b1076dfc-b9ad-4769-8c92-a6c4dae69d19",
    "_uuid": "8f2839f25d086af736a60e9eeb907d3b93b6e0e5",
    "execution": {
     "iopub.execute_input": "2024-04-21T12:13:06.594958Z",
     "iopub.status.busy": "2024-04-21T12:13:06.594531Z",
     "iopub.status.idle": "2024-04-21T12:13:06.602142Z",
     "shell.execute_reply": "2024-04-21T12:13:06.600443Z",
     "shell.execute_reply.started": "2024-04-21T12:13:06.594919Z"
    },
    "id": "9dMvaV6xf3bN"
   },
   "outputs": [],
   "source": [
    "# This Python 3 environment comes with many helpful analytics libraries installed\n",
    "# It is defined by the kaggle/python Docker image: https://github.com/kaggle/docker-python\n",
    "# For example, here's several helpful packages to load\n",
    "\n",
    "import numpy as np # linear algebra\n",
    "import pandas as pd # data processing, CSV file I/O (e.g. pd.read_csv)\n",
    "\n",
    "# Input data files are available in the read-only \"../input/\" directory\n",
    "# For example, running this (by clicking run or pressing Shift+Enter) will list all files under the input directory\n",
    "\n",
    "import os\n",
    "\n",
    "# You can write up to 20GB to the current directory (/kaggle/working/) that gets preserved as output when you create a version using \"Save & Run All\"\n",
    "# You can also write temporary files to /kaggle/temp/, but they won't be saved outside of the current session"
   ]
  },
  {
   "cell_type": "markdown",
   "metadata": {
    "id": "UZoY9c6ggDi3"
   },
   "source": [
    "/content/final_data.csv"
   ]
  },
  {
   "cell_type": "code",
   "execution_count": 31,
   "metadata": {
    "colab": {
     "base_uri": "https://localhost:8080/",
     "height": 863
    },
    "execution": {
     "iopub.execute_input": "2024-04-21T12:13:08.407276Z",
     "iopub.status.busy": "2024-04-21T12:13:08.406864Z",
     "iopub.status.idle": "2024-04-21T12:13:08.754230Z",
     "shell.execute_reply": "2024-04-21T12:13:08.752943Z",
     "shell.execute_reply.started": "2024-04-21T12:13:08.407245Z"
    },
    "id": "b9XvocpTf3bQ",
    "outputId": "39bebbda-cced-4939-ce44-ce9100710ac7"
   },
   "outputs": [
    {
     "data": {
      "text/html": [
       "<div>\n",
       "<style scoped>\n",
       "    .dataframe tbody tr th:only-of-type {\n",
       "        vertical-align: middle;\n",
       "    }\n",
       "\n",
       "    .dataframe tbody tr th {\n",
       "        vertical-align: top;\n",
       "    }\n",
       "\n",
       "    .dataframe thead th {\n",
       "        text-align: right;\n",
       "    }\n",
       "</style>\n",
       "<table border=\"1\" class=\"dataframe\">\n",
       "  <thead>\n",
       "    <tr style=\"text-align: right;\">\n",
       "      <th></th>\n",
       "      <th>label_dis</th>\n",
       "      <th>abdominal cramp</th>\n",
       "      <th>abdominal distention</th>\n",
       "      <th>abnormal behavior</th>\n",
       "      <th>abnormal bleeding</th>\n",
       "      <th>abnormal sensation</th>\n",
       "      <th>abnormally frequent</th>\n",
       "      <th>abscess</th>\n",
       "      <th>aching</th>\n",
       "      <th>acne</th>\n",
       "      <th>...</th>\n",
       "      <th>wet</th>\n",
       "      <th>wheezing</th>\n",
       "      <th>white patch vaginal discharge</th>\n",
       "      <th>widespread pain</th>\n",
       "      <th>withdrawal occurring stopping</th>\n",
       "      <th>worrying</th>\n",
       "      <th>yellow skin</th>\n",
       "      <th>yellowish coloration skin white eye</th>\n",
       "      <th>yellowish skin</th>\n",
       "      <th>yellowish skin crust</th>\n",
       "    </tr>\n",
       "  </thead>\n",
       "  <tbody>\n",
       "    <tr>\n",
       "      <th>0</th>\n",
       "      <td>Abscess</td>\n",
       "      <td>0</td>\n",
       "      <td>0</td>\n",
       "      <td>0</td>\n",
       "      <td>0</td>\n",
       "      <td>0</td>\n",
       "      <td>0</td>\n",
       "      <td>0</td>\n",
       "      <td>0</td>\n",
       "      <td>0</td>\n",
       "      <td>...</td>\n",
       "      <td>0</td>\n",
       "      <td>0</td>\n",
       "      <td>0</td>\n",
       "      <td>0</td>\n",
       "      <td>0</td>\n",
       "      <td>0</td>\n",
       "      <td>0</td>\n",
       "      <td>0</td>\n",
       "      <td>0</td>\n",
       "      <td>0</td>\n",
       "    </tr>\n",
       "    <tr>\n",
       "      <th>1</th>\n",
       "      <td>Abscess</td>\n",
       "      <td>0</td>\n",
       "      <td>0</td>\n",
       "      <td>0</td>\n",
       "      <td>0</td>\n",
       "      <td>0</td>\n",
       "      <td>0</td>\n",
       "      <td>0</td>\n",
       "      <td>0</td>\n",
       "      <td>0</td>\n",
       "      <td>...</td>\n",
       "      <td>0</td>\n",
       "      <td>0</td>\n",
       "      <td>0</td>\n",
       "      <td>0</td>\n",
       "      <td>0</td>\n",
       "      <td>0</td>\n",
       "      <td>0</td>\n",
       "      <td>0</td>\n",
       "      <td>0</td>\n",
       "      <td>0</td>\n",
       "    </tr>\n",
       "    <tr>\n",
       "      <th>2</th>\n",
       "      <td>Abscess</td>\n",
       "      <td>0</td>\n",
       "      <td>0</td>\n",
       "      <td>0</td>\n",
       "      <td>0</td>\n",
       "      <td>0</td>\n",
       "      <td>0</td>\n",
       "      <td>0</td>\n",
       "      <td>0</td>\n",
       "      <td>0</td>\n",
       "      <td>...</td>\n",
       "      <td>0</td>\n",
       "      <td>0</td>\n",
       "      <td>0</td>\n",
       "      <td>0</td>\n",
       "      <td>0</td>\n",
       "      <td>0</td>\n",
       "      <td>0</td>\n",
       "      <td>0</td>\n",
       "      <td>0</td>\n",
       "      <td>0</td>\n",
       "    </tr>\n",
       "    <tr>\n",
       "      <th>3</th>\n",
       "      <td>Abscess</td>\n",
       "      <td>0</td>\n",
       "      <td>0</td>\n",
       "      <td>0</td>\n",
       "      <td>0</td>\n",
       "      <td>0</td>\n",
       "      <td>0</td>\n",
       "      <td>0</td>\n",
       "      <td>0</td>\n",
       "      <td>0</td>\n",
       "      <td>...</td>\n",
       "      <td>0</td>\n",
       "      <td>0</td>\n",
       "      <td>0</td>\n",
       "      <td>0</td>\n",
       "      <td>0</td>\n",
       "      <td>0</td>\n",
       "      <td>0</td>\n",
       "      <td>0</td>\n",
       "      <td>0</td>\n",
       "      <td>0</td>\n",
       "    </tr>\n",
       "    <tr>\n",
       "      <th>4</th>\n",
       "      <td>Abscess</td>\n",
       "      <td>0</td>\n",
       "      <td>0</td>\n",
       "      <td>0</td>\n",
       "      <td>0</td>\n",
       "      <td>0</td>\n",
       "      <td>0</td>\n",
       "      <td>0</td>\n",
       "      <td>0</td>\n",
       "      <td>0</td>\n",
       "      <td>...</td>\n",
       "      <td>0</td>\n",
       "      <td>0</td>\n",
       "      <td>0</td>\n",
       "      <td>0</td>\n",
       "      <td>0</td>\n",
       "      <td>0</td>\n",
       "      <td>0</td>\n",
       "      <td>0</td>\n",
       "      <td>0</td>\n",
       "      <td>0</td>\n",
       "    </tr>\n",
       "  </tbody>\n",
       "</table>\n",
       "<p>5 rows × 490 columns</p>\n",
       "</div>"
      ],
      "text/plain": [
       "  label_dis  abdominal cramp  abdominal distention  abnormal behavior  \\\n",
       "0   Abscess                0                     0                  0   \n",
       "1   Abscess                0                     0                  0   \n",
       "2   Abscess                0                     0                  0   \n",
       "3   Abscess                0                     0                  0   \n",
       "4   Abscess                0                     0                  0   \n",
       "\n",
       "   abnormal bleeding  abnormal sensation  abnormally frequent  abscess  \\\n",
       "0                  0                   0                    0        0   \n",
       "1                  0                   0                    0        0   \n",
       "2                  0                   0                    0        0   \n",
       "3                  0                   0                    0        0   \n",
       "4                  0                   0                    0        0   \n",
       "\n",
       "   aching  acne  ...  wet  wheezing  white patch vaginal discharge  \\\n",
       "0       0     0  ...    0         0                              0   \n",
       "1       0     0  ...    0         0                              0   \n",
       "2       0     0  ...    0         0                              0   \n",
       "3       0     0  ...    0         0                              0   \n",
       "4       0     0  ...    0         0                              0   \n",
       "\n",
       "   widespread pain  withdrawal occurring stopping  worrying  yellow skin  \\\n",
       "0                0                              0         0            0   \n",
       "1                0                              0         0            0   \n",
       "2                0                              0         0            0   \n",
       "3                0                              0         0            0   \n",
       "4                0                              0         0            0   \n",
       "\n",
       "   yellowish coloration skin white eye  yellowish skin  yellowish skin crust  \n",
       "0                                    0               0                     0  \n",
       "1                                    0               0                     0  \n",
       "2                                    0               0                     0  \n",
       "3                                    0               0                     0  \n",
       "4                                    0               0                     0  \n",
       "\n",
       "[5 rows x 490 columns]"
      ]
     },
     "execution_count": 31,
     "metadata": {},
     "output_type": "execute_result"
    }
   ],
   "source": [
    "df = pd.read_csv(\"/kaggle/input/dataset/Final_data.csv\")\n",
    "df.head()"
   ]
  },
  {
   "cell_type": "code",
   "execution_count": 32,
   "metadata": {
    "execution": {
     "iopub.execute_input": "2024-04-21T12:13:13.155366Z",
     "iopub.status.busy": "2024-04-21T12:13:13.154523Z",
     "iopub.status.idle": "2024-04-21T12:13:13.165948Z",
     "shell.execute_reply": "2024-04-21T12:13:13.164229Z",
     "shell.execute_reply.started": "2024-04-21T12:13:13.155316Z"
    },
    "id": "FbFoCsUjf3bQ"
   },
   "outputs": [],
   "source": [
    "# all necessary imports\n",
    "import warnings\n",
    "from decimal import Decimal\n",
    "import pandas as pd\n",
    "from sklearn.tree import DecisionTreeClassifier\n",
    "from sklearn.linear_model import LogisticRegression\n",
    "from sklearn.neighbors import KNeighborsClassifier\n",
    "from sklearn.svm import SVC\n",
    "from sklearn.metrics import accuracy_score\n",
    "from sklearn.model_selection import train_test_split, cross_val_score\n",
    "from sklearn.model_selection import GridSearchCV\n",
    "from sklearn.naive_bayes import MultinomialNB\n",
    "from sklearn.ensemble import RandomForestClassifier\n",
    "from sklearn.neural_network import MLPClassifier\n",
    "from xgboost import XGBClassifier\n",
    "import matplotlib.pyplot as plt\n",
    "# ignore warnings generated due to usage of old version of tensorflow\n",
    "warnings.simplefilter(\"ignore\")"
   ]
  },
  {
   "cell_type": "code",
   "execution_count": 33,
   "metadata": {
    "execution": {
     "iopub.execute_input": "2024-04-21T12:13:15.605011Z",
     "iopub.status.busy": "2024-04-21T12:13:15.603994Z",
     "iopub.status.idle": "2024-04-21T12:13:15.664844Z",
     "shell.execute_reply": "2024-04-21T12:13:15.663095Z",
     "shell.execute_reply.started": "2024-04-21T12:13:15.604953Z"
    },
    "id": "4g-JyN7Wf3bR"
   },
   "outputs": [],
   "source": [
    "\n",
    "# creation of features and label for training the models\n",
    "X = df.iloc[:, 1:]\n",
    "Y = df.iloc[:, 0:1]\n",
    "\n",
    "\"\"\"*Train Test Split*\"\"\"\n",
    "\n",
    "# splitting data for training the classifiers and testing\n",
    "x_train, x_test, y_train, y_test = train_test_split(X, Y, test_size=0.10)\n",
    "\n",
    "# lists used for accuracy plots\n",
    "accuracy_list = []\n",
    "cross_accuracy_list = []\n",
    "model_list = []"
   ]
  },
  {
   "cell_type": "markdown",
   "metadata": {
    "id": "se0AXQ49k6k-"
   },
   "source": [
    "#MNB"
   ]
  },
  {
   "cell_type": "code",
   "execution_count": 34,
   "metadata": {
    "colab": {
     "base_uri": "https://localhost:8080/"
    },
    "execution": {
     "iopub.execute_input": "2024-04-21T12:13:18.840289Z",
     "iopub.status.busy": "2024-04-21T12:13:18.839515Z",
     "iopub.status.idle": "2024-04-21T12:13:33.429017Z",
     "shell.execute_reply": "2024-04-21T12:13:33.427125Z",
     "shell.execute_reply.started": "2024-04-21T12:13:18.840227Z"
    },
    "id": "YAyVBvpIf3bR",
    "outputId": "1b3e313f-539d-4dad-a86d-09c5644c54d6"
   },
   "outputs": [
    {
     "name": "stdout",
     "output_type": "stream",
     "text": [
      "Accuracy (MNB Test) : 85.75%\n",
      "Cross Validation Accuracy (MNB): 81.93%\n"
     ]
    },
    {
     "name": "stdin",
     "output_type": "stream",
     "text": [
      "Enter the symptoms separated by commas:  acne,acrocyanosis\n"
     ]
    },
    {
     "name": "stdout",
     "output_type": "stream",
     "text": [
      "Possible diseases based on symptoms:\n",
      "-  Polycystic ovary syndrome (PCOS)\n",
      "-  Polycystic ovary syndrome (PCOS)\n"
     ]
    }
   ],
   "source": [
    "from sklearn.impute import SimpleImputer\n",
    "from sklearn.model_selection import cross_val_score\n",
    "from sklearn.metrics import accuracy_score\n",
    "from sklearn.naive_bayes import MultinomialNB\n",
    "import pandas as pd\n",
    "from decimal import Decimal\n",
    "\n",
    "# Handle missing values in x_train by imputing them with the mean of each column\n",
    "imputer = SimpleImputer(strategy='mean')\n",
    "x_train_imputed = imputer.fit_transform(x_train)\n",
    "\n",
    "# Handle missing values in y_train (if any)\n",
    "y_train_imputed = y_train.fillna(method='ffill')  # Forward fill missing values if present\n",
    "\n",
    "# Multinomial NB Classifier\n",
    "mnb = MultinomialNB()\n",
    "mnb.fit(x_train_imputed, y_train_imputed)  # Fit on the training data after handling missing values\n",
    "\n",
    "# Prediction of labels for the test data\n",
    "mnb_pred_test = mnb.predict(x_test)\n",
    "\n",
    "# Calculation of accuracy score based on predictions performed on the test data\n",
    "acc_mnb_test = round(Decimal(accuracy_score(y_test, mnb_pred_test) * 100), 2)\n",
    "accuracy_list.append(acc_mnb_test)\n",
    "model_list.append(\"MNB\")\n",
    "print(f\"Accuracy (MNB Test) : {acc_mnb_test}%\")\n",
    "\n",
    "# Cross Validation Accuracy MNB\n",
    "# performing cross validation with 5 different splits\n",
    "scores_mnb = cross_val_score(mnb, x_train_imputed, y_train_imputed, cv=5, scoring='accuracy')\n",
    "# mean of cross val score (accuracy)\n",
    "score = round(Decimal(scores_mnb.mean() * 100), 2)\n",
    "cross_accuracy_list.append(score)\n",
    "print(f\"Cross Validation Accuracy (MNB): {score}%\")\n",
    "\n",
    "def predict_disease(symptoms):\n",
    "    # Load the trained Multinomial Naive Bayes classifier\n",
    "    mnb = MultinomialNB()\n",
    "    mnb.fit(x_train_imputed, y_train_imputed)  # Fit on the training data after handling missing values\n",
    "\n",
    "    # Create a DataFrame with zeros for all columns\n",
    "    user_input = pd.DataFrame(0, index=range(len(symptoms)), columns=X.columns)\n",
    "\n",
    "    # Set the value to 1 for the columns corresponding to the user input symptoms\n",
    "    for symptom in symptoms:\n",
    "        if symptom in user_input.columns:\n",
    "            user_input[symptom] = 1\n",
    "\n",
    "    # Predict the possible diseases based on the user input\n",
    "    possible_diseases = mnb.predict(user_input)\n",
    "\n",
    "    # Return the predicted possible diseases\n",
    "    return possible_diseases\n",
    "\n",
    "\n",
    "# Take input from the user for symptoms\n",
    "user_symptoms = input(\"Enter the symptoms separated by commas: \").split(',')\n",
    "\n",
    "# Predict possible diseases based on the user input\n",
    "predicted_diseases = predict_disease(user_symptoms)\n",
    "\n",
    "print(\"Possible diseases based on symptoms:\")\n",
    "for disease in predicted_diseases:\n",
    "    print(\"- \", disease)\n"
   ]
  },
  {
   "cell_type": "code",
   "execution_count": 35,
   "metadata": {
    "colab": {
     "base_uri": "https://localhost:8080/"
    },
    "execution": {
     "iopub.execute_input": "2024-04-21T12:13:36.504116Z",
     "iopub.status.busy": "2024-04-21T12:13:36.503671Z",
     "iopub.status.idle": "2024-04-21T12:13:36.512059Z",
     "shell.execute_reply": "2024-04-21T12:13:36.510516Z",
     "shell.execute_reply.started": "2024-04-21T12:13:36.504084Z"
    },
    "id": "CNfAwS1p4kyb",
    "outputId": "f1067456-801f-4748-e635-f0ad9537c817"
   },
   "outputs": [
    {
     "name": "stdout",
     "output_type": "stream",
     "text": [
      "['MNB']\n",
      "[Decimal('85.75')]\n",
      "[Decimal('81.93')]\n"
     ]
    }
   ],
   "source": [
    "print(model_list)\n",
    "print(accuracy_list)\n",
    "print(cross_accuracy_list)"
   ]
  },
  {
   "cell_type": "markdown",
   "metadata": {
    "id": "3Owvdq3Ok9x2"
   },
   "source": [
    "#KNN"
   ]
  },
  {
   "cell_type": "code",
   "execution_count": 36,
   "metadata": {
    "colab": {
     "base_uri": "https://localhost:8080/"
    },
    "execution": {
     "iopub.execute_input": "2024-04-21T12:13:39.556481Z",
     "iopub.status.busy": "2024-04-21T12:13:39.556075Z",
     "iopub.status.idle": "2024-04-21T12:13:44.210320Z",
     "shell.execute_reply": "2024-04-21T12:13:44.206224Z",
     "shell.execute_reply.started": "2024-04-21T12:13:39.556451Z"
    },
    "id": "g9JePNulf3bS",
    "outputId": "fa8f35f3-6aaf-4b1e-8af2-7f9ef73216f7"
   },
   "outputs": [
    {
     "name": "stdout",
     "output_type": "stream",
     "text": [
      "Accuracy (KNN): 92.42%\n",
      "Cross Validation Accuracy (KNN): 84.40%\n"
     ]
    },
    {
     "name": "stdin",
     "output_type": "stream",
     "text": [
      "Enter the symptoms separated by commas:  acne,acrocyanosis\n"
     ]
    },
    {
     "name": "stdout",
     "output_type": "stream",
     "text": [
      "Possible diseases based on symptoms (KNN):\n",
      "-  Polycystic ovary syndrome (PCOS)\n",
      "-  Polycystic ovary syndrome (PCOS)\n"
     ]
    }
   ],
   "source": [
    "from sklearn.neighbors import KNeighborsClassifier\n",
    "from sklearn.metrics import accuracy_score\n",
    "from sklearn.model_selection import cross_val_score\n",
    "from sklearn.impute import SimpleImputer\n",
    "import pandas as pd\n",
    "\n",
    "# Instantiate the imputer with the mean strategy\n",
    "imputer = SimpleImputer(strategy='mean')\n",
    "\n",
    "# Impute missing values in both training and test data\n",
    "X_imputed = imputer.fit_transform(X)\n",
    "x_test_imputed = imputer.transform(x_test)\n",
    "\n",
    "# KNN Classifier\n",
    "knn = KNeighborsClassifier(n_neighbors=7, weights='distance', n_jobs=4)\n",
    "knn.fit(X_imputed, Y)\n",
    "\n",
    "# Prediction of labels for the test data\n",
    "knn_pred = knn.predict(x_test_imputed)\n",
    "acc_knn = round(Decimal(accuracy_score(y_test, knn_pred) * 100), 2)\n",
    "accuracy_list.append(acc_knn)\n",
    "model_list.append(\"KNN\")\n",
    "# Print accuracy\n",
    "print(f\"Accuracy (KNN): {acc_knn}%\")\n",
    "\n",
    "# Cross Validation Accuracy KNN\n",
    "# performing cross validation with 5 different splits\n",
    "scores_knn = cross_val_score(knn, X_imputed, Y, cv=5)\n",
    "# mean of cross val score (accuracy)\n",
    "score = round(Decimal(scores_knn.mean() * 100), 2)\n",
    "cross_accuracy_list.append(score)\n",
    "print(f\"Cross Validation Accuracy (KNN): {score}%\")\n",
    "\n",
    "def predict_disease_knn(symptoms):\n",
    "    # Load the trained KNN classifier\n",
    "    knn = KNeighborsClassifier(n_neighbors=7, weights='distance', n_jobs=4)\n",
    "    knn.fit(X_imputed, Y)\n",
    "\n",
    "    # Create a DataFrame with zeros for all columns\n",
    "    user_input = pd.DataFrame(0, index=range(len(symptoms)), columns=X.columns)\n",
    "\n",
    "    # Set the value to 1 for the columns corresponding to the user input symptoms\n",
    "    for symptom in symptoms:\n",
    "        if symptom in user_input.columns:\n",
    "            user_input[symptom] = 1\n",
    "\n",
    "    # Predict the possible diseases based on the user input\n",
    "    possible_diseases = knn.predict(user_input)\n",
    "\n",
    "    # Return the predicted possible diseases\n",
    "    return possible_diseases\n",
    "\n",
    "\n",
    "# Take input from the user for symptoms\n",
    "user_symptoms = input(\"Enter the symptoms separated by commas: \").split(',')\n",
    "\n",
    "# Predict possible diseases based on the user input using KNN\n",
    "predicted_diseases_knn = predict_disease_knn(user_symptoms)\n",
    "\n",
    "print(\"Possible diseases based on symptoms (KNN):\")\n",
    "for disease in predicted_diseases_knn:\n",
    "    print(\"- \", disease)\n"
   ]
  },
  {
   "cell_type": "code",
   "execution_count": 37,
   "metadata": {
    "colab": {
     "base_uri": "https://localhost:8080/"
    },
    "execution": {
     "iopub.execute_input": "2024-04-21T12:13:46.341444Z",
     "iopub.status.busy": "2024-04-21T12:13:46.341013Z",
     "iopub.status.idle": "2024-04-21T12:13:46.349622Z",
     "shell.execute_reply": "2024-04-21T12:13:46.347241Z",
     "shell.execute_reply.started": "2024-04-21T12:13:46.341412Z"
    },
    "id": "Cp5U5VLK5boO",
    "outputId": "8336215e-839e-4967-9fce-f2c8349bc49b"
   },
   "outputs": [
    {
     "name": "stdout",
     "output_type": "stream",
     "text": [
      "['MNB', 'KNN']\n",
      "[Decimal('85.75'), Decimal('92.42')]\n",
      "[Decimal('81.93'), Decimal('84.40')]\n"
     ]
    }
   ],
   "source": [
    "print(model_list)\n",
    "print(accuracy_list)\n",
    "print(cross_accuracy_list)"
   ]
  },
  {
   "cell_type": "code",
   "execution_count": null,
   "metadata": {
    "id": "hB0rC0ik468X"
   },
   "outputs": [],
   "source": []
  },
  {
   "cell_type": "markdown",
   "metadata": {
    "id": "DEIkhXZvlAQC"
   },
   "source": [
    "#LINEAR REGRESSION"
   ]
  },
  {
   "cell_type": "code",
   "execution_count": 38,
   "metadata": {
    "colab": {
     "base_uri": "https://localhost:8080/",
     "height": 391
    },
    "execution": {
     "iopub.execute_input": "2024-04-21T12:13:49.817691Z",
     "iopub.status.busy": "2024-04-21T12:13:49.817307Z",
     "iopub.status.idle": "2024-04-21T12:15:49.394560Z",
     "shell.execute_reply": "2024-04-21T12:15:49.392299Z",
     "shell.execute_reply.started": "2024-04-21T12:13:49.817662Z"
    },
    "id": "rcv2DCTJh3PB",
    "outputId": "f5adfe20-d98c-4a0d-9756-0748f2d74258"
   },
   "outputs": [
    {
     "name": "stdout",
     "output_type": "stream",
     "text": [
      "Accuracy (LR) : 92.99%\n",
      "Cross Validation Accuracy (LR): 89.19%\n"
     ]
    },
    {
     "name": "stdin",
     "output_type": "stream",
     "text": [
      "Enter the symptoms separated by commas:  acne,acrocyanosis\n"
     ]
    },
    {
     "name": "stdout",
     "output_type": "stream",
     "text": [
      "Possible diseases based on symptoms (LR):\n",
      "-  Polycystic ovary syndrome (PCOS)\n",
      "-  Polycystic ovary syndrome (PCOS)\n"
     ]
    }
   ],
   "source": [
    "from sklearn.linear_model import LogisticRegression\n",
    "from sklearn.metrics import accuracy_score\n",
    "from sklearn.model_selection import cross_val_score\n",
    "from sklearn.impute import SimpleImputer\n",
    "import pandas as pd\n",
    "\n",
    "# Instantiate the imputer with the mean strategy\n",
    "imputer = SimpleImputer(strategy='mean')\n",
    "\n",
    "# Impute missing values in both training and test data\n",
    "X_imputed = imputer.fit_transform(X)\n",
    "x_test_imputed = imputer.transform(x_test)\n",
    "\n",
    "# LR Classifier\n",
    "lr = LogisticRegression()\n",
    "lr.fit(X_imputed, Y)\n",
    "\n",
    "# Prediction of labels for the test data\n",
    "lr_pred = lr.predict(x_test_imputed)\n",
    "acc_lr = round(Decimal(accuracy_score(y_test, lr_pred) * 100), 2)\n",
    "accuracy_list.append(acc_lr)\n",
    "model_list.append(\"LR\")\n",
    "# Print accuracy\n",
    "print(f\"Accuracy (LR) : {acc_lr}%\")\n",
    "\n",
    "# Cross Validation Accuracy LR\n",
    "# performing cross validation with 5 different splits\n",
    "scores_lr = cross_val_score(lr, X_imputed, Y, cv=5)\n",
    "# mean of cross val score (accuracy)\n",
    "score = round(Decimal(scores_lr.mean() * 100), 2)\n",
    "cross_accuracy_list.append(score)\n",
    "print(f\"Cross Validation Accuracy (LR): {score}%\")\n",
    "\n",
    "def predict_disease_lr(symptoms):\n",
    "    # Load the trained LR classifier\n",
    "    lr = LogisticRegression()\n",
    "    lr.fit(X_imputed, Y)\n",
    "\n",
    "    # Create a DataFrame with zeros for all columns\n",
    "    user_input = pd.DataFrame(0, index=range(len(symptoms)), columns=X.columns)\n",
    "\n",
    "    # Set the value to 1 for the columns corresponding to the user input symptoms\n",
    "    for symptom in symptoms:\n",
    "        if symptom in user_input.columns:\n",
    "            user_input[symptom] = 1\n",
    "\n",
    "    # Predict the possible diseases based on the user input\n",
    "    possible_diseases = lr.predict(user_input)\n",
    "\n",
    "    # Return the predicted possible diseases\n",
    "    return possible_diseases\n",
    "\n",
    "\n",
    "# Take input from the user for symptoms\n",
    "user_symptoms = input(\"Enter the symptoms separated by commas: \").split(',')\n",
    "\n",
    "# Predict possible diseases based on the user input using LR\n",
    "predicted_diseases_lr = predict_disease_lr(user_symptoms)\n",
    "\n",
    "print(\"Possible diseases based on symptoms (LR):\")\n",
    "for disease in predicted_diseases_lr:\n",
    "    print(\"- \", disease)\n"
   ]
  },
  {
   "cell_type": "code",
   "execution_count": 39,
   "metadata": {
    "execution": {
     "iopub.execute_input": "2024-04-21T12:16:13.231566Z",
     "iopub.status.busy": "2024-04-21T12:16:13.231136Z",
     "iopub.status.idle": "2024-04-21T12:16:13.239354Z",
     "shell.execute_reply": "2024-04-21T12:16:13.237968Z",
     "shell.execute_reply.started": "2024-04-21T12:16:13.231538Z"
    },
    "id": "MiHj4Xqt5sOU"
   },
   "outputs": [
    {
     "name": "stdout",
     "output_type": "stream",
     "text": [
      "['MNB', 'KNN', 'LR']\n",
      "[Decimal('85.75'), Decimal('92.42'), Decimal('92.99')]\n",
      "[Decimal('81.93'), Decimal('84.40'), Decimal('89.19')]\n"
     ]
    }
   ],
   "source": [
    "print(model_list)\n",
    "print(accuracy_list)\n",
    "print(cross_accuracy_list)"
   ]
  },
  {
   "cell_type": "markdown",
   "metadata": {
    "id": "f9jwefozlF_i"
   },
   "source": [
    "#SVM"
   ]
  },
  {
   "cell_type": "code",
   "execution_count": 40,
   "metadata": {
    "colab": {
     "base_uri": "https://localhost:8080/",
     "height": 211
    },
    "execution": {
     "iopub.execute_input": "2024-04-21T12:16:18.893485Z",
     "iopub.status.busy": "2024-04-21T12:16:18.893073Z",
     "iopub.status.idle": "2024-04-21T12:18:48.689019Z",
     "shell.execute_reply": "2024-04-21T12:18:48.687883Z",
     "shell.execute_reply.started": "2024-04-21T12:16:18.893458Z"
    },
    "id": "B5a2-iFMjaFN",
    "outputId": "257d37f9-c5ba-4df1-cf6a-0e7aaec6f794"
   },
   "outputs": [
    {
     "name": "stdout",
     "output_type": "stream",
     "text": [
      "Accuracy (SVM) : 92.53%\n",
      "Cross Validation Accuracy (SVM): 88.62%\n"
     ]
    },
    {
     "name": "stdin",
     "output_type": "stream",
     "text": [
      "Enter the symptoms separated by commas:  acne,acrocyanosis\n"
     ]
    },
    {
     "name": "stdout",
     "output_type": "stream",
     "text": [
      "Possible diseases based on symptoms (SVM):\n",
      "-  Polycystic ovary syndrome (PCOS)\n",
      "-  Polycystic ovary syndrome (PCOS)\n"
     ]
    }
   ],
   "source": [
    "from sklearn.svm import SVC\n",
    "from sklearn.metrics import accuracy_score\n",
    "from sklearn.model_selection import cross_val_score\n",
    "from sklearn.impute import SimpleImputer\n",
    "import pandas as pd\n",
    "\n",
    "# Instantiate the imputer with the mean strategy\n",
    "imputer = SimpleImputer(strategy='mean')\n",
    "\n",
    "# Impute missing values in both training and test data\n",
    "X_imputed = imputer.fit_transform(X)\n",
    "x_test_imputed = imputer.transform(x_test)\n",
    "\n",
    "# SVM Classifier\n",
    "svm = SVC()\n",
    "svm.fit(X_imputed, Y)\n",
    "\n",
    "# Prediction of labels for the test data\n",
    "svm_pred = svm.predict(x_test_imputed)\n",
    "acc_svm = round(Decimal(accuracy_score(y_test, svm_pred) * 100), 2)\n",
    "accuracy_list.append(acc_svm)\n",
    "model_list.append(\"SVM\")\n",
    "# Print accuracy\n",
    "print(f\"Accuracy (SVM) : {acc_svm}%\")\n",
    "\n",
    "# Cross Validation Accuracy SVM\n",
    "# performing cross validation with 5 different splits\n",
    "scores_svm = cross_val_score(svm, X_imputed, Y, cv=5)\n",
    "# mean of cross val score (accuracy)\n",
    "score = round(Decimal(scores_svm.mean() * 100), 2)\n",
    "cross_accuracy_list.append(score)\n",
    "print(f\"Cross Validation Accuracy (SVM): {score}%\")\n",
    "\n",
    "def predict_disease_svm(symptoms):\n",
    "    # Load the trained SVM classifier\n",
    "    svm = SVC()\n",
    "    svm.fit(X_imputed, Y)\n",
    "\n",
    "    # Create a DataFrame with zeros for all columns\n",
    "    user_input = pd.DataFrame(0, index=range(len(symptoms)), columns=X.columns)\n",
    "\n",
    "    # Set the value to 1 for the columns corresponding to the user input symptoms\n",
    "    for symptom in symptoms:\n",
    "        if symptom in user_input.columns:\n",
    "            user_input[symptom] = 1\n",
    "\n",
    "    # Predict the possible diseases based on the user input\n",
    "    possible_diseases = svm.predict(user_input)\n",
    "\n",
    "    # Return the predicted possible diseases\n",
    "    return possible_diseases\n",
    "\n",
    "\n",
    "# Take input from the user for symptoms\n",
    "user_symptoms = input(\"Enter the symptoms separated by commas: \").split(',')\n",
    "\n",
    "# Predict possible diseases based on the user input using SVM\n",
    "predicted_diseases_svm = predict_disease_svm(user_symptoms)\n",
    "\n",
    "print(\"Possible diseases based on symptoms (SVM):\")\n",
    "for disease in predicted_diseases_svm:\n",
    "    print(\"- \", disease)\n"
   ]
  },
  {
   "cell_type": "markdown",
   "metadata": {
    "id": "SFyxsujKlJGL"
   },
   "source": [
    "#DT"
   ]
  },
  {
   "cell_type": "code",
   "execution_count": 41,
   "metadata": {
    "execution": {
     "iopub.execute_input": "2024-04-21T12:18:52.593238Z",
     "iopub.status.busy": "2024-04-21T12:18:52.591894Z",
     "iopub.status.idle": "2024-04-21T12:19:38.459364Z",
     "shell.execute_reply": "2024-04-21T12:19:38.458242Z",
     "shell.execute_reply.started": "2024-04-21T12:18:52.593158Z"
    },
    "id": "cea1At0ekiFE"
   },
   "outputs": [
    {
     "name": "stdout",
     "output_type": "stream",
     "text": [
      "Accuracy (DT) : 92.42%\n",
      "Cross Validation Accuracy (DT): 83.55%\n"
     ]
    },
    {
     "name": "stdin",
     "output_type": "stream",
     "text": [
      "Enter the symptoms separated by commas:  acne,acrocyanosis\n"
     ]
    },
    {
     "name": "stdout",
     "output_type": "stream",
     "text": [
      "Possible diseases based on symptoms (DT):\n",
      "-  Polycystic ovary syndrome (PCOS)\n",
      "-  Polycystic ovary syndrome (PCOS)\n"
     ]
    }
   ],
   "source": [
    "from sklearn.tree import DecisionTreeClassifier\n",
    "from sklearn.metrics import accuracy_score\n",
    "from sklearn.model_selection import cross_val_score\n",
    "from sklearn.impute import SimpleImputer\n",
    "import pandas as pd\n",
    "\n",
    "# Instantiate the imputer with the mean strategy\n",
    "imputer = SimpleImputer(strategy='mean')\n",
    "\n",
    "# Impute missing values in both training and test data\n",
    "X_imputed = imputer.fit_transform(X)\n",
    "x_test_imputed = imputer.transform(x_test)\n",
    "\n",
    "# DT Classifier\n",
    "dt = DecisionTreeClassifier()\n",
    "dt.fit(X_imputed, Y)\n",
    "\n",
    "# Prediction of labels for the test data\n",
    "dt_pred = dt.predict(x_test_imputed)\n",
    "acc_dt = round(Decimal(accuracy_score(y_test, dt_pred) * 100), 2)\n",
    "accuracy_list.append(acc_dt)\n",
    "model_list.append(\"DT\")\n",
    "\n",
    "# Print accuracy\n",
    "print(f\"Accuracy (DT) : {acc_dt}%\")\n",
    "\n",
    "# Cross Validation Accuracy DT\n",
    "# performing cross validation with 5 different splits\n",
    "scores_dt = cross_val_score(dt, X_imputed, Y, cv=5)\n",
    "# mean of cross val score (accuracy)\n",
    "score = round(Decimal(scores_dt.mean() * 100), 2)\n",
    "cross_accuracy_list.append(score)\n",
    "print(f\"Cross Validation Accuracy (DT): {score}%\")\n",
    "\n",
    "def predict_disease_dt(symptoms):\n",
    "    # Load the trained DT classifier\n",
    "    dt = DecisionTreeClassifier()\n",
    "    dt.fit(X_imputed, Y)\n",
    "\n",
    "    # Create a DataFrame with zeros for all columns\n",
    "    user_input = pd.DataFrame(0, index=range(len(symptoms)), columns=X.columns)\n",
    "\n",
    "    # Set the value to 1 for the columns corresponding to the user input symptoms\n",
    "    for symptom in symptoms:\n",
    "        if symptom in user_input.columns:\n",
    "            user_input[symptom] = 1\n",
    "\n",
    "    # Predict the possible diseases based on the user input\n",
    "    possible_diseases = dt.predict(user_input)\n",
    "\n",
    "    # Return the predicted possible diseases\n",
    "    return possible_diseases\n",
    "\n",
    "\n",
    "# Take input from the user for symptoms\n",
    "user_symptoms = input(\"Enter the symptoms separated by commas: \").split(',')\n",
    "\n",
    "# Predict possible diseases based on the user input using DT\n",
    "predicted_diseases_dt = predict_disease_dt(user_symptoms)\n",
    "\n",
    "print(\"Possible diseases based on symptoms (DT):\")\n",
    "for disease in predicted_diseases_dt:\n",
    "    print(\"- \", disease)\n"
   ]
  },
  {
   "cell_type": "code",
   "execution_count": 42,
   "metadata": {
    "execution": {
     "iopub.execute_input": "2024-04-21T12:19:53.294639Z",
     "iopub.status.busy": "2024-04-21T12:19:53.294210Z",
     "iopub.status.idle": "2024-04-21T12:19:53.300616Z",
     "shell.execute_reply": "2024-04-21T12:19:53.299583Z",
     "shell.execute_reply.started": "2024-04-21T12:19:53.294606Z"
    }
   },
   "outputs": [
    {
     "name": "stdout",
     "output_type": "stream",
     "text": [
      "['MNB', 'KNN', 'LR', 'SVM', 'DT']\n",
      "[Decimal('85.75'), Decimal('92.42'), Decimal('92.99'), Decimal('92.53'), Decimal('92.42')]\n",
      "[Decimal('81.93'), Decimal('84.40'), Decimal('89.19'), Decimal('88.62'), Decimal('83.55')]\n"
     ]
    }
   ],
   "source": [
    "print(model_list)\n",
    "print(accuracy_list)\n",
    "print(cross_accuracy_list)"
   ]
  },
  {
   "cell_type": "markdown",
   "metadata": {
    "id": "kC-WIJMFl0Us"
   },
   "source": [
    "#MLP"
   ]
  },
  {
   "cell_type": "code",
   "execution_count": 43,
   "metadata": {
    "colab": {
     "base_uri": "https://localhost:8080/"
    },
    "execution": {
     "iopub.execute_input": "2024-04-21T12:19:59.174932Z",
     "iopub.status.busy": "2024-04-21T12:19:59.174332Z",
     "iopub.status.idle": "2024-04-21T13:01:57.231696Z",
     "shell.execute_reply": "2024-04-21T13:01:57.230227Z",
     "shell.execute_reply.started": "2024-04-21T12:19:59.174898Z"
    },
    "id": "Youd8aGKlj2a",
    "outputId": "803ac381-13f9-4c02-9401-13df14b118ba"
   },
   "outputs": [
    {
     "name": "stdout",
     "output_type": "stream",
     "text": [
      "Accuracy (MLP) : 92.42%\n",
      "Cross Validation Accuracy (MLP): 88.89%\n"
     ]
    },
    {
     "name": "stdin",
     "output_type": "stream",
     "text": [
      "Enter the symptoms separated by commas:  acne,acrocyanosis\n"
     ]
    },
    {
     "name": "stdout",
     "output_type": "stream",
     "text": [
      "Possible diseases based on symptoms (MLP):\n",
      "-  Premenstrual syndrome\n",
      "-  Premenstrual syndrome\n"
     ]
    }
   ],
   "source": [
    "from sklearn.neural_network import MLPClassifier\n",
    "from sklearn.metrics import accuracy_score\n",
    "from sklearn.model_selection import cross_val_score\n",
    "from sklearn.impute import SimpleImputer\n",
    "import pandas as pd\n",
    "\n",
    "# Instantiate the imputer with the mean strategy\n",
    "imputer = SimpleImputer(strategy='mean')\n",
    "\n",
    "# Impute missing values in both training and test data\n",
    "X_imputed = imputer.fit_transform(X)\n",
    "x_test_imputed = imputer.transform(x_test)\n",
    "\n",
    "# MLP Classifier\n",
    "mlp = MLPClassifier()\n",
    "mlp.fit(X_imputed, Y)\n",
    "\n",
    "# Prediction of labels for the test data\n",
    "mlp_pred = mlp.predict(x_test_imputed)\n",
    "acc_mlp = round(Decimal(accuracy_score(y_test, mlp_pred) * 100), 2)\n",
    "accuracy_list.append(acc_mlp)\n",
    "model_list.append(\"MLP\")\n",
    "# Print accuracy\n",
    "print(f\"Accuracy (MLP) : {acc_mlp}%\")\n",
    "\n",
    "# Cross Validation Accuracy MLP\n",
    "# performing cross validation with 5 different splits\n",
    "scores_mlp = cross_val_score(mlp, X_imputed, Y, cv=5)\n",
    "# mean of cross val score (accuracy)\n",
    "score = round(Decimal(scores_mlp.mean() * 100), 2)\n",
    "cross_accuracy_list.append(score)\n",
    "print(f\"Cross Validation Accuracy (MLP): {score}%\")\n",
    "\n",
    "def predict_disease_mlp(symptoms):\n",
    "    # Load the trained MLP classifier\n",
    "    mlp = MLPClassifier()\n",
    "    mlp.fit(X_imputed, Y)\n",
    "\n",
    "    # Create a DataFrame with zeros for all columns\n",
    "    user_input = pd.DataFrame(0, index=range(len(symptoms)), columns=X.columns)\n",
    "\n",
    "    # Set the value to 1 for the columns corresponding to the user input symptoms\n",
    "    for symptom in symptoms:\n",
    "        if symptom in user_input.columns:\n",
    "            user_input[symptom] = 1\n",
    "\n",
    "    # Predict the possible diseases based on the user input\n",
    "    possible_diseases = mlp.predict(user_input)\n",
    "\n",
    "    # Return the predicted possible diseases\n",
    "    return possible_diseases\n",
    "\n",
    "\n",
    "# Take input from the user for symptoms\n",
    "user_symptoms = input(\"Enter the symptoms separated by commas: \").split(',')\n",
    "\n",
    "# Predict possible diseases based on the user input using MLP\n",
    "predicted_diseases_mlp = predict_disease_mlp(user_symptoms)\n",
    "\n",
    "print(\"Possible diseases based on symptoms (MLP):\")\n",
    "for disease in predicted_diseases_mlp:\n",
    "    print(\"- \", disease)\n"
   ]
  },
  {
   "cell_type": "code",
   "execution_count": 44,
   "metadata": {
    "execution": {
     "iopub.execute_input": "2024-04-21T13:02:20.664281Z",
     "iopub.status.busy": "2024-04-21T13:02:20.663678Z",
     "iopub.status.idle": "2024-04-21T13:02:20.670708Z",
     "shell.execute_reply": "2024-04-21T13:02:20.669194Z",
     "shell.execute_reply.started": "2024-04-21T13:02:20.664245Z"
    }
   },
   "outputs": [
    {
     "name": "stdout",
     "output_type": "stream",
     "text": [
      "['MNB', 'KNN', 'LR', 'SVM', 'DT', 'MLP']\n",
      "[Decimal('85.75'), Decimal('92.42'), Decimal('92.99'), Decimal('92.53'), Decimal('92.42'), Decimal('92.42')]\n",
      "[Decimal('81.93'), Decimal('84.40'), Decimal('89.19'), Decimal('88.62'), Decimal('83.55'), Decimal('88.89')]\n"
     ]
    }
   ],
   "source": [
    "print(model_list)\n",
    "print(accuracy_list)\n",
    "print(cross_accuracy_list)"
   ]
  },
  {
   "cell_type": "code",
   "execution_count": 45,
   "metadata": {
    "execution": {
     "iopub.execute_input": "2024-04-21T13:02:46.114550Z",
     "iopub.status.busy": "2024-04-21T13:02:46.113564Z",
     "iopub.status.idle": "2024-04-21T13:02:46.121375Z",
     "shell.execute_reply": "2024-04-21T13:02:46.119790Z",
     "shell.execute_reply.started": "2024-04-21T13:02:46.114510Z"
    }
   },
   "outputs": [],
   "source": [
    "import pickle\n",
    "\n",
    "\n",
    "\n",
    "# Save lists to a file using pickle\n",
    "with open('lists_data.pkl', 'wb') as f:\n",
    "    pickle.dump((model_list, accuracy_list), f)\n"
   ]
  },
  {
   "cell_type": "code",
   "execution_count": 47,
   "metadata": {
    "execution": {
     "iopub.execute_input": "2024-04-21T13:04:18.108123Z",
     "iopub.status.busy": "2024-04-21T13:04:18.107394Z",
     "iopub.status.idle": "2024-04-21T13:04:18.116775Z",
     "shell.execute_reply": "2024-04-21T13:04:18.114993Z",
     "shell.execute_reply.started": "2024-04-21T13:04:18.108088Z"
    }
   },
   "outputs": [
    {
     "name": "stdout",
     "output_type": "stream",
     "text": [
      "Model List: ['MNB', 'KNN', 'LR', 'SVM', 'DT', 'MLP']\n",
      "Accuracy List: [Decimal('85.75'), Decimal('92.42'), Decimal('92.99'), Decimal('92.53'), Decimal('92.42'), Decimal('92.42')]\n"
     ]
    }
   ],
   "source": [
    "import pickle\n",
    "\n",
    "# Load lists from the file using pickle\n",
    "with open('lists_data.pkl', 'rb') as f:\n",
    "    model_list, accuracy_list = pickle.load(f)\n",
    "\n",
    "# Now you can use model_list and accuracy_list\n",
    "print(\"Model List:\", model_list)\n",
    "print(\"Accuracy List:\", accuracy_list)\n"
   ]
  },
  {
   "cell_type": "code",
   "execution_count": 49,
   "metadata": {
    "execution": {
     "iopub.execute_input": "2024-04-21T13:08:32.002841Z",
     "iopub.status.busy": "2024-04-21T13:08:32.002393Z",
     "iopub.status.idle": "2024-04-21T13:08:32.368058Z",
     "shell.execute_reply": "2024-04-21T13:08:32.366695Z",
     "shell.execute_reply.started": "2024-04-21T13:08:32.002809Z"
    }
   },
   "outputs": [
    {
     "data": {
      "image/png": "[encoded data removed]",
      "text/plain": [
       "<Figure size 1000x600 with 1 Axes>"
      ]
     },
     "metadata": {},
     "output_type": "display_data"
    }
   ],
   "source": [
    "import matplotlib.pyplot as plt\n",
    "\n",
    "\n",
    "# Plotting\n",
    "plt.figure(figsize=(10, 6))\n",
    "\n",
    "# Create bar plot\n",
    "bars = plt.bar(model_list, accuracy_list, color=['#1f77b4', '#ff7f0e', '#2ca02c'])\n",
    "\n",
    "# Add labels and title\n",
    "plt.title(\"Model Vs Accuracy\")\n",
    "plt.xlabel('Classifier')\n",
    "plt.ylabel('Accuracy (%)')\n",
    "\n",
    "# Add data labels on top of the bars\n",
    "for bar, accuracy in zip(bars, accuracy_list):\n",
    "    plt.text(bar.get_x() + bar.get_width() / 2, bar.get_height() + 0.05, f'{accuracy:.2f}%', \n",
    "             ha='center', va='bottom', color='black')\n",
    "\n",
    "# Add grid lines\n",
    "plt.grid(axis='y', linestyle='--', alpha=0.7)\n",
    "\n",
    "# Show plot\n",
    "plt.tight_layout()\n",
    "plt.show()\n"
   ]
  },
  {
   "cell_type": "code",
   "execution_count": null,
   "metadata": {},
   "outputs": [],
   "source": []
  }
 ],
 "metadata": {
  "colab": {
   "provenance": []
  },
  "kaggle": {
   "accelerator": "none",
   "dataSources": [
    {
     "datasetId": 4563325,
     "sourceId": 7794853,
     "sourceType": "datasetVersion"
    },
    {
     "datasetId": 4845834,
     "sourceId": 8184087,
     "sourceType": "datasetVersion"
    }
   ],
   "dockerImageVersionId": 30702,
   "isGpuEnabled": false,
   "isInternetEnabled": false,
   "language": "python",
   "sourceType": "notebook"
  },
  "kernelspec": {
   "display_name": "Python 3 (ipykernel)",
   "language": "python",
   "name": "python3"
  },
  "language_info": {
   "codemirror_mode": {
    "name": "ipython",
    "version": 3
   },
   "file_extension": ".py",
   "mimetype": "text/x-python",
   "name": "python",
   "nbconvert_exporter": "python",
   "pygments_lexer": "ipython3",
   "version": "3.10.12"
  }
 },
 "nbformat": 4,
 "nbformat_minor": 4
}
